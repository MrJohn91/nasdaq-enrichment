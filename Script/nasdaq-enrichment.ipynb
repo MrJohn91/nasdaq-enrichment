{
 "cells": [
  {
   "cell_type": "code",
   "execution_count": 122,
   "metadata": {},
   "outputs": [
    {
     "name": "stdout",
     "output_type": "stream",
     "text": [
      "Company Information:\n"
     ]
    },
    {
     "data": {
      "text/html": [
       "<div>\n",
       "<style scoped>\n",
       "    .dataframe tbody tr th:only-of-type {\n",
       "        vertical-align: middle;\n",
       "    }\n",
       "\n",
       "    .dataframe tbody tr th {\n",
       "        vertical-align: top;\n",
       "    }\n",
       "\n",
       "    .dataframe thead th {\n",
       "        text-align: right;\n",
       "    }\n",
       "</style>\n",
       "<table border=\"1\" class=\"dataframe\">\n",
       "  <thead>\n",
       "    <tr style=\"text-align: right;\">\n",
       "      <th></th>\n",
       "      <th>symbol</th>\n",
       "      <th>name</th>\n",
       "      <th>headQuarter</th>\n",
       "      <th>dateFirstAdded</th>\n",
       "      <th>cik</th>\n",
       "      <th>founded</th>\n",
       "    </tr>\n",
       "  </thead>\n",
       "  <tbody>\n",
       "    <tr>\n",
       "      <th>0</th>\n",
       "      <td>AAPL</td>\n",
       "      <td>Apple Inc.</td>\n",
       "      <td>Cupertino, CA</td>\n",
       "      <td>NaN</td>\n",
       "      <td>320193</td>\n",
       "      <td>1976-04-01</td>\n",
       "    </tr>\n",
       "    <tr>\n",
       "      <th>1</th>\n",
       "      <td>ABNB</td>\n",
       "      <td>Airbnb</td>\n",
       "      <td>San Francisco, CA</td>\n",
       "      <td>NaN</td>\n",
       "      <td>1559720</td>\n",
       "      <td>2008-08-01</td>\n",
       "    </tr>\n",
       "    <tr>\n",
       "      <th>2</th>\n",
       "      <td>ADBE</td>\n",
       "      <td>Adobe Inc.</td>\n",
       "      <td>San Jose, CA</td>\n",
       "      <td>NaN</td>\n",
       "      <td>796343</td>\n",
       "      <td>1982-12-01</td>\n",
       "    </tr>\n",
       "    <tr>\n",
       "      <th>3</th>\n",
       "      <td>ADI</td>\n",
       "      <td>Analog Devices</td>\n",
       "      <td>Wilmington, MA</td>\n",
       "      <td>NaN</td>\n",
       "      <td>6281</td>\n",
       "      <td>1965-01-01</td>\n",
       "    </tr>\n",
       "    <tr>\n",
       "      <th>4</th>\n",
       "      <td>ADP</td>\n",
       "      <td>ADP</td>\n",
       "      <td>Roseland, NJ</td>\n",
       "      <td>NaN</td>\n",
       "      <td>8670</td>\n",
       "      <td>1949-01-01</td>\n",
       "    </tr>\n",
       "  </tbody>\n",
       "</table>\n",
       "</div>"
      ],
      "text/plain": [
       "  symbol            name        headQuarter  dateFirstAdded      cik  \\\n",
       "0   AAPL      Apple Inc.      Cupertino, CA             NaN   320193   \n",
       "1   ABNB          Airbnb  San Francisco, CA             NaN  1559720   \n",
       "2   ADBE      Adobe Inc.       San Jose, CA             NaN   796343   \n",
       "3    ADI  Analog Devices     Wilmington, MA             NaN     6281   \n",
       "4    ADP             ADP       Roseland, NJ             NaN     8670   \n",
       "\n",
       "      founded  \n",
       "0  1976-04-01  \n",
       "1  2008-08-01  \n",
       "2  1982-12-01  \n",
       "3  1965-01-01  \n",
       "4  1949-01-01  "
      ]
     },
     "metadata": {},
     "output_type": "display_data"
    },
    {
     "name": "stdout",
     "output_type": "stream",
     "text": [
      "\n",
      "Stock Price Changes:\n"
     ]
    },
    {
     "data": {
      "text/html": [
       "<div>\n",
       "<style scoped>\n",
       "    .dataframe tbody tr th:only-of-type {\n",
       "        vertical-align: middle;\n",
       "    }\n",
       "\n",
       "    .dataframe tbody tr th {\n",
       "        vertical-align: top;\n",
       "    }\n",
       "\n",
       "    .dataframe thead th {\n",
       "        text-align: right;\n",
       "    }\n",
       "</style>\n",
       "<table border=\"1\" class=\"dataframe\">\n",
       "  <thead>\n",
       "    <tr style=\"text-align: right;\">\n",
       "      <th></th>\n",
       "      <th>symbol</th>\n",
       "      <th>1D</th>\n",
       "      <th>5D</th>\n",
       "      <th>1M</th>\n",
       "      <th>3M</th>\n",
       "      <th>6M</th>\n",
       "      <th>ytd</th>\n",
       "      <th>1Y</th>\n",
       "      <th>3Y</th>\n",
       "      <th>5Y</th>\n",
       "      <th>10Y</th>\n",
       "      <th>max</th>\n",
       "    </tr>\n",
       "  </thead>\n",
       "  <tbody>\n",
       "    <tr>\n",
       "      <th>0</th>\n",
       "      <td>AAPL</td>\n",
       "      <td>-1.7254</td>\n",
       "      <td>-8.30086</td>\n",
       "      <td>-6.20411</td>\n",
       "      <td>3.04200</td>\n",
       "      <td>15.64824</td>\n",
       "      <td>42.99992</td>\n",
       "      <td>8.479410</td>\n",
       "      <td>60.96299</td>\n",
       "      <td>245.42031</td>\n",
       "      <td>976.99441</td>\n",
       "      <td>139245.53954</td>\n",
       "    </tr>\n",
       "    <tr>\n",
       "      <th>1</th>\n",
       "      <td>ABNB</td>\n",
       "      <td>2.1617</td>\n",
       "      <td>-2.21919</td>\n",
       "      <td>9.88336</td>\n",
       "      <td>19.43286</td>\n",
       "      <td>19.64241</td>\n",
       "      <td>68.66902</td>\n",
       "      <td>23.640130</td>\n",
       "      <td>-1.04347</td>\n",
       "      <td>-1.04347</td>\n",
       "      <td>-1.04347</td>\n",
       "      <td>-1.04347</td>\n",
       "    </tr>\n",
       "    <tr>\n",
       "      <th>2</th>\n",
       "      <td>ADBE</td>\n",
       "      <td>0.5409</td>\n",
       "      <td>-1.77817</td>\n",
       "      <td>9.16191</td>\n",
       "      <td>52.04650</td>\n",
       "      <td>38.01522</td>\n",
       "      <td>57.22723</td>\n",
       "      <td>21.962060</td>\n",
       "      <td>17.83037</td>\n",
       "      <td>109.05718</td>\n",
       "      <td>1024.69214</td>\n",
       "      <td>251030.66399</td>\n",
       "    </tr>\n",
       "    <tr>\n",
       "      <th>3</th>\n",
       "      <td>ADI</td>\n",
       "      <td>0.9291</td>\n",
       "      <td>-4.03352</td>\n",
       "      <td>2.58486</td>\n",
       "      <td>3.65887</td>\n",
       "      <td>5.01602</td>\n",
       "      <td>17.02062</td>\n",
       "      <td>8.097350</td>\n",
       "      <td>63.42847</td>\n",
       "      <td>92.81874</td>\n",
       "      <td>286.77518</td>\n",
       "      <td>26012.63736</td>\n",
       "    </tr>\n",
       "    <tr>\n",
       "      <th>4</th>\n",
       "      <td>ADP</td>\n",
       "      <td>2.0589</td>\n",
       "      <td>2.35462</td>\n",
       "      <td>14.66581</td>\n",
       "      <td>16.40059</td>\n",
       "      <td>10.60546</td>\n",
       "      <td>5.53732</td>\n",
       "      <td>0.888943</td>\n",
       "      <td>81.76679</td>\n",
       "      <td>81.87224</td>\n",
       "      <td>248.40950</td>\n",
       "      <td>27613.11042</td>\n",
       "    </tr>\n",
       "  </tbody>\n",
       "</table>\n",
       "</div>"
      ],
      "text/plain": [
       "  symbol      1D       5D        1M        3M        6M       ytd         1Y  \\\n",
       "0   AAPL -1.7254 -8.30086  -6.20411   3.04200  15.64824  42.99992   8.479410   \n",
       "1   ABNB  2.1617 -2.21919   9.88336  19.43286  19.64241  68.66902  23.640130   \n",
       "2   ADBE  0.5409 -1.77817   9.16191  52.04650  38.01522  57.22723  21.962060   \n",
       "3    ADI  0.9291 -4.03352   2.58486   3.65887   5.01602  17.02062   8.097350   \n",
       "4    ADP  2.0589  2.35462  14.66581  16.40059  10.60546   5.53732   0.888943   \n",
       "\n",
       "         3Y         5Y         10Y           max  \n",
       "0  60.96299  245.42031   976.99441  139245.53954  \n",
       "1  -1.04347   -1.04347    -1.04347      -1.04347  \n",
       "2  17.83037  109.05718  1024.69214  251030.66399  \n",
       "3  63.42847   92.81874   286.77518   26012.63736  \n",
       "4  81.76679   81.87224   248.40950   27613.11042  "
      ]
     },
     "metadata": {},
     "output_type": "display_data"
    }
   ],
   "source": [
    "import pandas as pd\n",
    "file_path = \"/Users/vee/Desktop/nasdaq-enrichment/\"\n",
    "\n",
    "nasdaq_df = pd.read_csv(file_path + \"nasdaq100.csv\")\n",
    "price_change_df = pd.read_csv(file_path + \"nasdaq100_price_change.csv\")\n",
    "\n",
    "print(\"Company Information:\")\n",
    "display(nasdaq_df.head())\n",
    "\n",
    "print(\"\\nStock Price Changes:\")\n",
    "display(price_change_df.head())\n",
    "\n"
   ]
  },
  {
   "cell_type": "code",
   "execution_count": 2,
   "metadata": {},
   "outputs": [
    {
     "name": "stdout",
     "output_type": "stream",
     "text": [
      "Missing values in 'nasdaq100.csv':\n",
      "symbol              0\n",
      "name                0\n",
      "headQuarter         0\n",
      "dateFirstAdded    101\n",
      "cik                 0\n",
      "founded             0\n",
      "dtype: int64\n",
      "\n",
      "Missing values in 'nasdaq100_price_change.csv':\n",
      "symbol    0\n",
      "1D        0\n",
      "5D        0\n",
      "1M        0\n",
      "3M        0\n",
      "6M        0\n",
      "ytd       0\n",
      "1Y        0\n",
      "3Y        0\n",
      "5Y        0\n",
      "10Y       0\n",
      "max       0\n",
      "dtype: int64\n"
     ]
    }
   ],
   "source": [
    "print(\"Missing values in 'nasdaq100.csv':\")\n",
    "print(nasdaq_df.isnull().sum())\n",
    "\n",
    "print(\"\\nMissing values in 'nasdaq100_price_change.csv':\")\n",
    "print(price_change_df.isnull().sum())\n"
   ]
  },
  {
   "cell_type": "code",
   "execution_count": 3,
   "metadata": {},
   "outputs": [
    {
     "name": "stdout",
     "output_type": "stream",
     "text": [
      "\n",
      "Duplicate rows in 'nasdaq100.csv':\n",
      "0\n",
      "\n",
      "Duplicate rows in 'nasdaq100_price_change.csv':\n",
      "0\n",
      "\n",
      "Duplicate symbols in 'nasdaq100.csv':\n",
      "0\n",
      "\n",
      "Duplicate symbols in 'nasdaq100_price_change.csv':\n",
      "0\n"
     ]
    }
   ],
   "source": [
    "# Check for duplicates in both datasets\n",
    "print(\"\\nDuplicate rows in 'nasdaq100.csv':\")\n",
    "print(nasdaq_df.duplicated().sum())\n",
    "\n",
    "print(\"\\nDuplicate rows in 'nasdaq100_price_change.csv':\")\n",
    "print(price_change_df.duplicated().sum())\n",
    "\n",
    "# Check for duplicate symbol\n",
    "print(\"\\nDuplicate symbols in 'nasdaq100.csv':\")\n",
    "print(nasdaq_df['symbol'].duplicated().sum())\n",
    "\n",
    "print(\"\\nDuplicate symbols in 'nasdaq100_price_change.csv':\")\n",
    "print(price_change_df['symbol'].duplicated().sum())\n"
   ]
  },
  {
   "cell_type": "code",
   "execution_count": 4,
   "metadata": {},
   "outputs": [
    {
     "name": "stdout",
     "output_type": "stream",
     "text": [
      "Rows in nasdaq100.csv: 101\n",
      "Rows in nasdaq100_price_change.csv: 101\n"
     ]
    }
   ],
   "source": [
    "# Check the number of rows in each dataframe\n",
    "print(\"Rows in nasdaq100.csv:\", nasdaq_df.shape[0])\n",
    "print(\"Rows in nasdaq100_price_change.csv:\", price_change_df.shape[0])\n"
   ]
  },
  {
   "cell_type": "code",
   "execution_count": 7,
   "metadata": {},
   "outputs": [
    {
     "name": "stdout",
     "output_type": "stream",
     "text": [
      "float64\n"
     ]
    }
   ],
   "source": [
    "# Check the data type of 'dateFirstAdded'\n",
    "print(nasdaq_df['dateFirstAdded'].dtype)\n"
   ]
  },
  {
   "cell_type": "code",
   "execution_count": null,
   "metadata": {},
   "outputs": [
    {
     "name": "stdout",
     "output_type": "stream",
     "text": [
      "0\n"
     ]
    }
   ],
   "source": [
    "# Convert 'dateFirstAdded' to datetime type\n",
    "nasdaq_df['dateFirstAdded'] = pd.to_datetime(nasdaq_df['dateFirstAdded'], errors='coerce')\n",
    "\n",
    "# Check if mode has a valid value\n",
    "if not nasdaq_df['dateFirstAdded'].mode().empty:\n",
    "    most_frequent_date = nasdaq_df['dateFirstAdded'].mode()[0]\n",
    "    nasdaq_df['dateFirstAdded'] = nasdaq_df['dateFirstAdded'].fillna(most_frequent_date)\n",
    "else:\n",
    "    # If mode is empty, fill with a placeholder date \n",
    "    nasdaq_df['dateFirstAdded'] = nasdaq_df['dateFirstAdded'].fillna(pd.to_datetime('1900-01-01'))\n",
    "print(nasdaq_df['dateFirstAdded'].isnull().sum())\n"
   ]
  },
  {
   "cell_type": "code",
   "execution_count": 10,
   "metadata": {},
   "outputs": [
    {
     "data": {
      "text/html": [
       "<div>\n",
       "<style scoped>\n",
       "    .dataframe tbody tr th:only-of-type {\n",
       "        vertical-align: middle;\n",
       "    }\n",
       "\n",
       "    .dataframe tbody tr th {\n",
       "        vertical-align: top;\n",
       "    }\n",
       "\n",
       "    .dataframe thead th {\n",
       "        text-align: right;\n",
       "    }\n",
       "</style>\n",
       "<table border=\"1\" class=\"dataframe\">\n",
       "  <thead>\n",
       "    <tr style=\"text-align: right;\">\n",
       "      <th></th>\n",
       "      <th>symbol</th>\n",
       "      <th>name</th>\n",
       "      <th>headQuarter</th>\n",
       "      <th>dateFirstAdded</th>\n",
       "      <th>cik</th>\n",
       "      <th>founded</th>\n",
       "    </tr>\n",
       "  </thead>\n",
       "  <tbody>\n",
       "    <tr>\n",
       "      <th>0</th>\n",
       "      <td>AAPL</td>\n",
       "      <td>Apple Inc.</td>\n",
       "      <td>Cupertino, CA</td>\n",
       "      <td>1900-01-01</td>\n",
       "      <td>320193</td>\n",
       "      <td>1976-04-01</td>\n",
       "    </tr>\n",
       "    <tr>\n",
       "      <th>1</th>\n",
       "      <td>ABNB</td>\n",
       "      <td>Airbnb</td>\n",
       "      <td>San Francisco, CA</td>\n",
       "      <td>1900-01-01</td>\n",
       "      <td>1559720</td>\n",
       "      <td>2008-08-01</td>\n",
       "    </tr>\n",
       "    <tr>\n",
       "      <th>2</th>\n",
       "      <td>ADBE</td>\n",
       "      <td>Adobe Inc.</td>\n",
       "      <td>San Jose, CA</td>\n",
       "      <td>1900-01-01</td>\n",
       "      <td>796343</td>\n",
       "      <td>1982-12-01</td>\n",
       "    </tr>\n",
       "    <tr>\n",
       "      <th>3</th>\n",
       "      <td>ADI</td>\n",
       "      <td>Analog Devices</td>\n",
       "      <td>Wilmington, MA</td>\n",
       "      <td>1900-01-01</td>\n",
       "      <td>6281</td>\n",
       "      <td>1965-01-01</td>\n",
       "    </tr>\n",
       "    <tr>\n",
       "      <th>4</th>\n",
       "      <td>ADP</td>\n",
       "      <td>ADP</td>\n",
       "      <td>Roseland, NJ</td>\n",
       "      <td>1900-01-01</td>\n",
       "      <td>8670</td>\n",
       "      <td>1949-01-01</td>\n",
       "    </tr>\n",
       "    <tr>\n",
       "      <th>...</th>\n",
       "      <td>...</td>\n",
       "      <td>...</td>\n",
       "      <td>...</td>\n",
       "      <td>...</td>\n",
       "      <td>...</td>\n",
       "      <td>...</td>\n",
       "    </tr>\n",
       "    <tr>\n",
       "      <th>96</th>\n",
       "      <td>WBD</td>\n",
       "      <td>Warner Bros. Discovery</td>\n",
       "      <td>New York, NY</td>\n",
       "      <td>1900-01-01</td>\n",
       "      <td>1437107</td>\n",
       "      <td>2022-04-08</td>\n",
       "    </tr>\n",
       "    <tr>\n",
       "      <th>97</th>\n",
       "      <td>WDAY</td>\n",
       "      <td>Workday, Inc.</td>\n",
       "      <td>Pleasanton, CA</td>\n",
       "      <td>1900-01-01</td>\n",
       "      <td>1327811</td>\n",
       "      <td>2005-03-01</td>\n",
       "    </tr>\n",
       "    <tr>\n",
       "      <th>98</th>\n",
       "      <td>XEL</td>\n",
       "      <td>Xcel Energy</td>\n",
       "      <td>Minneapolis, MN</td>\n",
       "      <td>1900-01-01</td>\n",
       "      <td>72903</td>\n",
       "      <td>1909-06-17</td>\n",
       "    </tr>\n",
       "    <tr>\n",
       "      <th>99</th>\n",
       "      <td>ZM</td>\n",
       "      <td>Zoom Video Communications</td>\n",
       "      <td>San Jose, CA</td>\n",
       "      <td>1900-01-01</td>\n",
       "      <td>1585521</td>\n",
       "      <td>2011-04-21</td>\n",
       "    </tr>\n",
       "    <tr>\n",
       "      <th>100</th>\n",
       "      <td>ZS</td>\n",
       "      <td>Zscaler</td>\n",
       "      <td>San Jose, CA</td>\n",
       "      <td>1900-01-01</td>\n",
       "      <td>1713683</td>\n",
       "      <td>2007-01-01</td>\n",
       "    </tr>\n",
       "  </tbody>\n",
       "</table>\n",
       "<p>101 rows × 6 columns</p>\n",
       "</div>"
      ],
      "text/plain": [
       "    symbol                       name        headQuarter dateFirstAdded  \\\n",
       "0     AAPL                 Apple Inc.      Cupertino, CA     1900-01-01   \n",
       "1     ABNB                     Airbnb  San Francisco, CA     1900-01-01   \n",
       "2     ADBE                 Adobe Inc.       San Jose, CA     1900-01-01   \n",
       "3      ADI             Analog Devices     Wilmington, MA     1900-01-01   \n",
       "4      ADP                        ADP       Roseland, NJ     1900-01-01   \n",
       "..     ...                        ...                ...            ...   \n",
       "96     WBD     Warner Bros. Discovery       New York, NY     1900-01-01   \n",
       "97    WDAY              Workday, Inc.     Pleasanton, CA     1900-01-01   \n",
       "98     XEL                Xcel Energy    Minneapolis, MN     1900-01-01   \n",
       "99      ZM  Zoom Video Communications       San Jose, CA     1900-01-01   \n",
       "100     ZS                    Zscaler       San Jose, CA     1900-01-01   \n",
       "\n",
       "         cik     founded  \n",
       "0     320193  1976-04-01  \n",
       "1    1559720  2008-08-01  \n",
       "2     796343  1982-12-01  \n",
       "3       6281  1965-01-01  \n",
       "4       8670  1949-01-01  \n",
       "..       ...         ...  \n",
       "96   1437107  2022-04-08  \n",
       "97   1327811  2005-03-01  \n",
       "98     72903  1909-06-17  \n",
       "99   1585521  2011-04-21  \n",
       "100  1713683  2007-01-01  \n",
       "\n",
       "[101 rows x 6 columns]"
      ]
     },
     "execution_count": 10,
     "metadata": {},
     "output_type": "execute_result"
    }
   ],
   "source": [
    "nasdaq_df"
   ]
  },
  {
   "cell_type": "code",
   "execution_count": 12,
   "metadata": {},
   "outputs": [
    {
     "name": "stdout",
     "output_type": "stream",
     "text": [
      "Key loaded successfully!\n"
     ]
    }
   ],
   "source": [
    "from dotenv import load_dotenv\n",
    "import os\n",
    "\n",
    "load_dotenv()  \n",
    "\n",
    "openai_key = os.getenv(\"OPENAI_API_KEY\")\n",
    "print(\"Key loaded successfully!\")"
   ]
  },
  {
   "cell_type": "markdown",
   "metadata": {},
   "source": [
    "### Classifying Companies into Sectors"
   ]
  },
  {
   "cell_type": "code",
   "execution_count": null,
   "metadata": {},
   "outputs": [
    {
     "name": "stderr",
     "output_type": "stream",
     "text": [
      "100%|██████████| 101/101 [00:50<00:00,  2.02it/s]"
     ]
    },
    {
     "name": "stdout",
     "output_type": "stream",
     "text": [
      "  symbol            name                  sector\n",
      "0   AAPL      Apple Inc.              Technology\n",
      "1   ABNB          Airbnb             Hospitality\n",
      "2   ADBE      Adobe Inc.              Technology\n",
      "3    ADI  Analog Devices  Semiconductor Industry\n",
      "4    ADP             ADP       Business Services\n"
     ]
    },
    {
     "name": "stderr",
     "output_type": "stream",
     "text": [
      "\n"
     ]
    }
   ],
   "source": [
    "import openai\n",
    "import os\n",
    "import pandas as pd\n",
    "from dotenv import load_dotenv\n",
    "from tqdm import tqdm\n",
    "from functools import lru_cache\n",
    "\n",
    "load_dotenv()\n",
    "client = openai.OpenAI(api_key=os.getenv(\"OPENAI_API_KEY\"))\n",
    "\n",
    "# Classification function\n",
    "@lru_cache(maxsize=100)\n",
    "def classify_sector(company_name):\n",
    "    try:\n",
    "        response = client.chat.completions.create(\n",
    "            model=\"gpt-3.5-turbo\",\n",
    "            messages=[{\n",
    "                \"role\": \"user\", \n",
    "                \"content\": f\"Classify {company_name} into one business sector (respond with only the sector name)\"\n",
    "            }],\n",
    "            max_tokens=10,\n",
    "            temperature=0.2\n",
    "        )\n",
    "        return response.choices[0].message.content.strip()\n",
    "    except Exception as e:\n",
    "        print(f\"Error classifying {company_name}: {e}\")\n",
    "        return None\n",
    "nasdaq_df['sector'] = [classify_sector(name) for name in tqdm(nasdaq_df['name'])]\n",
    "\n",
    "print(nasdaq_df[['symbol', 'name', 'sector']].head())\n",
    "nasdaq_df.to_csv(\"nasdaq100_with_sectors.csv\", index=False)"
   ]
  },
  {
   "cell_type": "code",
   "execution_count": null,
   "metadata": {},
   "outputs": [],
   "source": [
    "nasdaq_df"
   ]
  },
  {
   "cell_type": "code",
   "execution_count": 43,
   "metadata": {},
   "outputs": [
    {
     "name": "stdout",
     "output_type": "stream",
     "text": [
      "['Technology' 'Hospitality' 'Semiconductor Industry' 'Business Services'\n",
      " 'Utilities' 'Healthcare' 'Biotechnology' 'E-commerce'\n",
      " 'Engineering Software' 'Travel and Tourism' 'Energy Services'\n",
      " 'Energy Sector' 'Telecommunications' 'Retail' 'Automotive Industry'\n",
      " 'Cybersecurity' 'Information Technology' 'Real Estate Technology'\n",
      " 'Transportation' 'Industrial Services' 'Information Technology (IT)'\n",
      " 'Renewable Energy' 'Industrial Distribution'\n",
      " 'Semiconductor Manufacturing' 'Industrial Conglomerate'\n",
      " 'Healthcare Technology' 'Beverage sector' 'Consumer Packaged Goods'\n",
      " 'Automotive industry' 'Semiconductors' 'Consumer Staples' 'Entertainment'\n",
      " 'Transportation and Logistics' 'Retail Sector' 'Automotive' 'Real Estate'\n",
      " 'Food and Beverage' 'Financial Technology (FinTech)'\n",
      " 'Media & Entertainment' 'Financial Services']\n"
     ]
    }
   ],
   "source": [
    "print(nasdaq_df['sector'].unique())\n"
   ]
  },
  {
   "cell_type": "markdown",
   "metadata": {},
   "source": [
    "####  inconsistencies in the way some sectors are labeled, such as:\n",
    "\n",
    "\"Technology\" vs. \"Information Technology\"\n",
    "\n",
    "\"Automotive Industry\" vs. \"Automotive\"\n",
    "\n",
    "\"Semiconductor Industry\" vs. \"Semiconductors\"\n",
    "\n",
    "\"Retail\" vs. \"Retail Sector\"\n",
    "\n",
    "And others with variations like \"Food and Beverage\" vs. \"Beverage sector"
   ]
  },
  {
   "cell_type": "markdown",
   "metadata": {},
   "source": [
    "#### 40 sector classified by AI"
   ]
  },
  {
   "cell_type": "markdown",
   "metadata": {},
   "source": [
    "### Mapping sector into the same categories"
   ]
  },
  {
   "cell_type": "code",
   "execution_count": 94,
   "metadata": {},
   "outputs": [
    {
     "name": "stdout",
     "output_type": "stream",
     "text": [
      "['Technology' 'Hospitality' 'Semiconductors' 'Business Services'\n",
      " 'Utilities' 'Healthcare' 'Biotechnology' 'E-commerce' 'Software'\n",
      " 'Travel and Tourism' 'Energy Services' 'Energy' 'Telecommunications'\n",
      " 'Retail' 'Automotive' 'Cybersecurity' 'Real Estate' 'Transportation'\n",
      " 'Industrial Services' 'Information Technology (IT)'\n",
      " 'Industrial Conglomerate' 'Food and Beverage' 'Consumer Goods'\n",
      " 'Entertainment' 'FinTech' 'Finance']\n"
     ]
    },
    {
     "name": "stderr",
     "output_type": "stream",
     "text": [
      "/var/folders/qf/27x4m9xd7930x_n62xzf37kc0000gn/T/ipykernel_51708/2564901587.py:41: SettingWithCopyWarning:\n",
      "\n",
      "\n",
      "A value is trying to be set on a copy of a slice from a DataFrame.\n",
      "Try using .loc[row_indexer,col_indexer] = value instead\n",
      "\n",
      "See the caveats in the documentation: https://pandas.pydata.org/pandas-docs/stable/user_guide/indexing.html#returning-a-view-versus-a-copy\n",
      "\n"
     ]
    }
   ],
   "source": [
    "sector_mapping = {\n",
    "    'Technology': 'Technology',\n",
    "    'Information Technology': 'Technology',\n",
    "    'Automotive Industry': 'Automotive',\n",
    "    'Automotive': 'Automotive',\n",
    "    'Semiconductor Industry': 'Semiconductors',\n",
    "    'Semiconductors': 'Semiconductors',\n",
    "    'Retail Sector': 'Retail',\n",
    "    'Retail': 'Retail',\n",
    "    'Healthcare Technology': 'Healthcare',\n",
    "    'E-commerce': 'E-commerce',\n",
    "    'Cybersecurity': 'Cybersecurity',\n",
    "    'Consumer Packaged Goods': 'Consumer Goods',\n",
    "    'Media & Entertainment': 'Entertainment',\n",
    "    'Financial Technology (FinTech)': 'FinTech',\n",
    "    'Energy Sector': 'Energy',\n",
    "    'Food and Beverage': 'Food and Beverage',\n",
    "    'Beverage sector': 'Food and Beverage',\n",
    "    'Industrial Services': 'Industrial Services',\n",
    "    'Transportation and Logistics': 'Transportation',\n",
    "    'Transportation': 'Transportation',\n",
    "    'Engineering Software': 'Software',\n",
    "    'Industrial Distribution': 'Industrial Services',\n",
    "    'Industrial Conglomerate': 'Industrial Conglomerate',\n",
    "    'Real Estate Technology': 'Real Estate',\n",
    "    'Real Estate': 'Real Estate',\n",
    "    'Renewable Energy': 'Energy',\n",
    "    'Semiconductor Manufacturing': 'Semiconductors',\n",
    "    'Business Services': 'Business Services',\n",
    "    'Telecommunications': 'Telecommunications',\n",
    "    'Healthcare': 'Healthcare',\n",
    "    'Utilities': 'Utilities',\n",
    "    'Financial Services': 'Finance',\n",
    "    'Consumer Staples': 'Consumer Goods',\n",
    "    'Entertainment': 'Entertainment',\n",
    "    'Automotive industry': 'Automotive',\n",
    "    'Transportation': 'Transportation',\n",
    "    'Automotive Industry': 'Automotive'\n",
    "}\n",
    "# Applying the mapping into sector column\n",
    "nasdaq_df['sector'] = nasdaq_df['sector'].map(sector_mapping).fillna(nasdaq_df['sector'])\n",
    "print(nasdaq_df['sector'].unique())"
   ]
  },
  {
   "cell_type": "code",
   "execution_count": 95,
   "metadata": {},
   "outputs": [
    {
     "name": "stdout",
     "output_type": "stream",
     "text": [
      "26\n"
     ]
    }
   ],
   "source": [
    "print(nasdaq_df['sector'].nunique())"
   ]
  },
  {
   "cell_type": "code",
   "execution_count": null,
   "metadata": {},
   "outputs": [],
   "source": [
    "# Applying the mapping into the 'sector' column\n",
    "nasdaq_df.loc[:, 'sector'] = nasdaq_df['sector'].apply(lambda x: sector_mapping.get(x, x))\n"
   ]
  },
  {
   "cell_type": "markdown",
   "metadata": {},
   "source": [
    "###  Merging the Datasets"
   ]
  },
  {
   "cell_type": "code",
   "execution_count": 106,
   "metadata": {},
   "outputs": [
    {
     "name": "stdout",
     "output_type": "stream",
     "text": [
      "  symbol                     name        headQuarter dateFirstAdded      cik  \\\n",
      "0   AAPL               Apple Inc.      Cupertino, CA     1900-01-01   320193   \n",
      "1   ABNB                   Airbnb  San Francisco, CA     1900-01-01  1559720   \n",
      "2    ADI           Analog Devices     Wilmington, MA     1900-01-01     6281   \n",
      "3    ADP                      ADP       Roseland, NJ     1900-01-01     8670   \n",
      "4    AEP  American Electric Power       Columbus, OH     1900-01-01     4904   \n",
      "\n",
      "      founded             sector      1D       5D        1M        3M  \\\n",
      "0  1976-04-01         Technology -1.7254 -8.30086  -6.20411   3.04200   \n",
      "1  2008-08-01        Hospitality  2.1617 -2.21919   9.88336  19.43286   \n",
      "2  1965-01-01     Semiconductors  0.9291 -4.03352   2.58486   3.65887   \n",
      "3  1949-01-01  Business Services  2.0589  2.35462  14.66581  16.40059   \n",
      "4  1906-01-01          Utilities -0.4431 -3.58803  -4.04556 -12.19194   \n",
      "\n",
      "         6M       ytd         1Y        3Y         5Y        10Y           max  \n",
      "0  15.64824  42.99992   8.479410  60.96299  245.42031  976.99441  139245.53954  \n",
      "1  19.64241  68.66902  23.640130  -1.04347   -1.04347   -1.04347      -1.04347  \n",
      "2   5.01602  17.02062   8.097350  63.42847   92.81874  286.77518   26012.63736  \n",
      "3  10.60546   5.53732   0.888943  81.76679   81.87224  248.40950   27613.11042  \n",
      "4 -12.35371 -14.74650 -19.184650  -6.60508   13.53172   77.87552     135.71585  \n"
     ]
    }
   ],
   "source": [
    "# Merge the two data on symbol\n",
    "company_performance_summary = pd.merge(nasdaq_df, price_change_df, on='symbol', how='left')\n",
    "print(company_performance_summary.head())\n"
   ]
  },
  {
   "cell_type": "markdown",
   "metadata": {},
   "source": [
    "## Sector Performance Summary"
   ]
  },
  {
   "cell_type": "markdown",
   "metadata": {},
   "source": [
    "### Calculating Sector-wise Average Stock Performance"
   ]
  },
  {
   "cell_type": "code",
   "execution_count": 108,
   "metadata": {},
   "outputs": [
    {
     "name": "stdout",
     "output_type": "stream",
     "text": [
      "                         sector      1D         5D         1M         3M  \\\n",
      "0                    Automotive  1.2790   1.589460   1.554870  13.423750   \n",
      "1                 Biotechnology  3.9707   8.688550  15.682600   6.937810   \n",
      "2             Business Services  2.0589   2.354620  14.665810  16.400590   \n",
      "3                Consumer Goods -0.7936  -1.547120  -1.297240 -15.295260   \n",
      "4                 Cybersecurity  0.3190  -6.527650   4.803890  23.291140   \n",
      "5                    E-commerce  1.8987   9.270560   9.585450  34.607920   \n",
      "6                        Energy -0.1828   8.084180  13.599040  30.519560   \n",
      "7               Energy Services  0.7644   0.197072   7.490180  26.116230   \n",
      "8                 Entertainment  2.1223   1.270590   0.607167  36.559670   \n",
      "9                       FinTech  2.6614 -13.390700  -3.548440 -14.072300   \n",
      "10                      Finance  1.6408   3.158410   3.804950  10.740710   \n",
      "11            Food and Beverage  0.6548  -0.995316   6.486150   1.775500   \n",
      "12                   Healthcare -0.0526  -2.889780   9.622500  15.179820   \n",
      "13                  Hospitality  2.1617  -2.219190   9.883360  19.432860   \n",
      "14      Industrial Conglomerate  0.2061  -2.217640  -6.720460  -4.445120   \n",
      "15          Industrial Services  0.8774  -0.718919   2.946440   6.008110   \n",
      "16  Information Technology (IT) -1.1439  -4.928000   8.447260  38.827220   \n",
      "17                  Real Estate  0.1720  -1.746990  -6.026730   9.316350   \n",
      "18                       Retail  1.1539   1.113610   6.353680  11.892360   \n",
      "19               Semiconductors  0.9291  -4.033520   2.584860   3.658870   \n",
      "20                     Software  0.6729  -7.917250  -4.207140   1.664010   \n",
      "21                   Technology -1.7254  -8.300860  -6.204110   3.042000   \n",
      "22           Telecommunications  0.1361   0.664811  12.768190  19.546810   \n",
      "23               Transportation  0.8249  -3.958900  -4.564560  -0.251099   \n",
      "24           Travel and Tourism  5.8714  12.214880  22.985240  26.221540   \n",
      "25                    Utilities -0.4431  -3.588030  -4.045560 -12.191940   \n",
      "\n",
      "          6M       ytd         1Y         3Y         5Y         10Y  \\\n",
      "0   29.88823  45.59063  38.696430   80.33051  202.50169  1001.29231   \n",
      "1    3.66393  -3.32887   2.284770    5.08953   26.21756   125.03559   \n",
      "2   10.60546   5.53732   0.888943   81.76679   81.87224   248.40950   \n",
      "3  -11.48204 -14.17361  -7.382910   -1.15787  -42.92237   -52.02851   \n",
      "4   31.74797  46.17545 -20.340860   48.37346  160.29310   160.29310   \n",
      "5   39.28117  65.71895   2.015640  -10.19934   52.72110   858.00074   \n",
      "6   20.73781  26.66341  36.711030  147.02381  147.02381   147.02381   \n",
      "7    9.44034  23.79130  46.641940  114.78576    1.16543   -11.88413   \n",
      "8   21.43821  49.43550  88.770400  -10.90898   25.27641  1138.04120   \n",
      "9  -22.60002 -13.62296 -33.077080  -67.56784  -25.35342    75.48352   \n",
      "10  31.29252  31.68490  17.334070   22.16468  101.02436   268.57639   \n",
      "11  -3.92045  -4.86639 -12.790100   14.14107   41.74350   -28.37781   \n",
      "12   4.68890  70.17618  23.268270   18.12890   -1.18442   724.20716   \n",
      "13  19.64241  68.66902  23.640130   -1.04347   -1.04347    -1.04347   \n",
      "14  -7.72376 -11.52590  -2.252930   22.23583   21.25863   126.65870   \n",
      "15  11.58282  10.11158  16.160330   59.47550  134.05293   915.80029   \n",
      "16  32.34562  47.45457  -5.912550   41.20616  183.08921   183.08921   \n",
      "17   4.74600   5.02254  11.911620   -1.79668   94.16667   402.12425   \n",
      "18   8.10795  23.19317   3.046690   63.79983  149.44608   367.91520   \n",
      "19   5.01602  17.02062   8.097350   63.42847   92.81874   286.77518   \n",
      "20  10.68606  28.51995   8.508760   -1.81516   77.50897   252.40722   \n",
      "21  15.64824  42.99992   8.479410   60.96299  245.42031   976.99441   \n",
      "22   4.17774  22.79115  -9.615340  -30.31219   41.20796   223.55935   \n",
      "23  -1.57944   2.91451  -3.168800   30.72810   31.34022   275.20661   \n",
      "24  30.38851  59.58046  65.815010   84.84166   56.06475   249.62051   \n",
      "25 -12.35371 -14.74650 -19.184650   -6.60508   13.53172    77.87552   \n",
      "\n",
      "             max  \n",
      "0    29267.74668  \n",
      "1    73482.54545  \n",
      "2    27613.11042  \n",
      "3      -52.02851  \n",
      "4      160.29310  \n",
      "5   145145.46299  \n",
      "6      147.02381  \n",
      "7       91.08725  \n",
      "8    36739.67863  \n",
      "9       75.48352  \n",
      "10     757.93534  \n",
      "11     884.35167  \n",
      "12    2040.74074  \n",
      "13      -1.04347  \n",
      "14    2181.58076  \n",
      "15   51865.07422  \n",
      "16     183.08921  \n",
      "17    8776.19048  \n",
      "18    4976.45455  \n",
      "19   26012.63736  \n",
      "20   10230.94737  \n",
      "21  139245.53954  \n",
      "22    1098.37143  \n",
      "23    8023.63882  \n",
      "24     552.18904  \n",
      "25     135.71585  \n"
     ]
    }
   ],
   "source": [
    "# Grouping by 'sector' and calculate the average performance for each time frame\n",
    "sector_performance = company_performance_summary.groupby('sector')[['1D', '5D', '1M', '3M', '6M', 'ytd', '1Y', '3Y', '5Y', '10Y', 'max']].mean()\n",
    "\n",
    "# Reset index to include 'sector' as a regular column for easy access\n",
    "sector_performance = sector_performance.reset_index()\n",
    "print(sector_performance)\n"
   ]
  },
  {
   "cell_type": "code",
   "execution_count": 123,
   "metadata": {},
   "outputs": [
    {
     "data": {
      "application/vnd.plotly.v1+json": {
       "config": {
        "plotlyServerURL": "https://plot.ly"
       },
       "data": [
        {
         "alignmentgroup": "True",
         "hovertemplate": "Sector=%{x}<br>Performance (%)=%{y}<extra></extra>",
         "legendgroup": "",
         "marker": {
          "color": "#636efa",
          "pattern": {
           "shape": ""
          }
         },
         "name": "",
         "offsetgroup": "",
         "orientation": "v",
         "showlegend": false,
         "textposition": "auto",
         "type": "bar",
         "x": [
          "Entertainment",
          "Travel and Tourism",
          "Energy Services",
          "Automotive",
          "Energy",
          "Hospitality",
          "Healthcare",
          "Finance",
          "Industrial Services",
          "Real Estate",
          "Software",
          "Technology",
          "Semiconductors",
          "Retail",
          "Biotechnology",
          "E-commerce",
          "Business Services",
          "Industrial Conglomerate",
          "Transportation",
          "Information Technology (IT)",
          "Consumer Goods",
          "Telecommunications",
          "Food and Beverage",
          "Utilities",
          "Cybersecurity",
          "FinTech"
         ],
         "xaxis": "x",
         "y": [
          88.7704,
          65.81501,
          46.64194,
          38.69643,
          36.71103,
          23.64013,
          23.26827,
          17.33407,
          16.16033,
          11.91162,
          8.50876,
          8.47941,
          8.09735,
          3.04669,
          2.28477,
          2.01564,
          0.88894252,
          -2.25293,
          -3.1688,
          -5.91255,
          -7.38291,
          -9.61534,
          -12.7901,
          -19.18465,
          -20.34086,
          -33.07708
         ],
         "yaxis": "y"
        }
       ],
       "layout": {
        "barmode": "group",
        "legend": {
         "tracegroupgap": 0
        },
        "template": {
         "data": {
          "bar": [
           {
            "error_x": {
             "color": "#2a3f5f"
            },
            "error_y": {
             "color": "#2a3f5f"
            },
            "marker": {
             "line": {
              "color": "#E5ECF6",
              "width": 0.5
             },
             "pattern": {
              "fillmode": "overlay",
              "size": 10,
              "solidity": 0.2
             }
            },
            "type": "bar"
           }
          ],
          "barpolar": [
           {
            "marker": {
             "line": {
              "color": "#E5ECF6",
              "width": 0.5
             },
             "pattern": {
              "fillmode": "overlay",
              "size": 10,
              "solidity": 0.2
             }
            },
            "type": "barpolar"
           }
          ],
          "carpet": [
           {
            "aaxis": {
             "endlinecolor": "#2a3f5f",
             "gridcolor": "white",
             "linecolor": "white",
             "minorgridcolor": "white",
             "startlinecolor": "#2a3f5f"
            },
            "baxis": {
             "endlinecolor": "#2a3f5f",
             "gridcolor": "white",
             "linecolor": "white",
             "minorgridcolor": "white",
             "startlinecolor": "#2a3f5f"
            },
            "type": "carpet"
           }
          ],
          "choropleth": [
           {
            "colorbar": {
             "outlinewidth": 0,
             "ticks": ""
            },
            "type": "choropleth"
           }
          ],
          "contour": [
           {
            "colorbar": {
             "outlinewidth": 0,
             "ticks": ""
            },
            "colorscale": [
             [
              0,
              "#0d0887"
             ],
             [
              0.1111111111111111,
              "#46039f"
             ],
             [
              0.2222222222222222,
              "#7201a8"
             ],
             [
              0.3333333333333333,
              "#9c179e"
             ],
             [
              0.4444444444444444,
              "#bd3786"
             ],
             [
              0.5555555555555556,
              "#d8576b"
             ],
             [
              0.6666666666666666,
              "#ed7953"
             ],
             [
              0.7777777777777778,
              "#fb9f3a"
             ],
             [
              0.8888888888888888,
              "#fdca26"
             ],
             [
              1,
              "#f0f921"
             ]
            ],
            "type": "contour"
           }
          ],
          "contourcarpet": [
           {
            "colorbar": {
             "outlinewidth": 0,
             "ticks": ""
            },
            "type": "contourcarpet"
           }
          ],
          "heatmap": [
           {
            "colorbar": {
             "outlinewidth": 0,
             "ticks": ""
            },
            "colorscale": [
             [
              0,
              "#0d0887"
             ],
             [
              0.1111111111111111,
              "#46039f"
             ],
             [
              0.2222222222222222,
              "#7201a8"
             ],
             [
              0.3333333333333333,
              "#9c179e"
             ],
             [
              0.4444444444444444,
              "#bd3786"
             ],
             [
              0.5555555555555556,
              "#d8576b"
             ],
             [
              0.6666666666666666,
              "#ed7953"
             ],
             [
              0.7777777777777778,
              "#fb9f3a"
             ],
             [
              0.8888888888888888,
              "#fdca26"
             ],
             [
              1,
              "#f0f921"
             ]
            ],
            "type": "heatmap"
           }
          ],
          "heatmapgl": [
           {
            "colorbar": {
             "outlinewidth": 0,
             "ticks": ""
            },
            "colorscale": [
             [
              0,
              "#0d0887"
             ],
             [
              0.1111111111111111,
              "#46039f"
             ],
             [
              0.2222222222222222,
              "#7201a8"
             ],
             [
              0.3333333333333333,
              "#9c179e"
             ],
             [
              0.4444444444444444,
              "#bd3786"
             ],
             [
              0.5555555555555556,
              "#d8576b"
             ],
             [
              0.6666666666666666,
              "#ed7953"
             ],
             [
              0.7777777777777778,
              "#fb9f3a"
             ],
             [
              0.8888888888888888,
              "#fdca26"
             ],
             [
              1,
              "#f0f921"
             ]
            ],
            "type": "heatmapgl"
           }
          ],
          "histogram": [
           {
            "marker": {
             "pattern": {
              "fillmode": "overlay",
              "size": 10,
              "solidity": 0.2
             }
            },
            "type": "histogram"
           }
          ],
          "histogram2d": [
           {
            "colorbar": {
             "outlinewidth": 0,
             "ticks": ""
            },
            "colorscale": [
             [
              0,
              "#0d0887"
             ],
             [
              0.1111111111111111,
              "#46039f"
             ],
             [
              0.2222222222222222,
              "#7201a8"
             ],
             [
              0.3333333333333333,
              "#9c179e"
             ],
             [
              0.4444444444444444,
              "#bd3786"
             ],
             [
              0.5555555555555556,
              "#d8576b"
             ],
             [
              0.6666666666666666,
              "#ed7953"
             ],
             [
              0.7777777777777778,
              "#fb9f3a"
             ],
             [
              0.8888888888888888,
              "#fdca26"
             ],
             [
              1,
              "#f0f921"
             ]
            ],
            "type": "histogram2d"
           }
          ],
          "histogram2dcontour": [
           {
            "colorbar": {
             "outlinewidth": 0,
             "ticks": ""
            },
            "colorscale": [
             [
              0,
              "#0d0887"
             ],
             [
              0.1111111111111111,
              "#46039f"
             ],
             [
              0.2222222222222222,
              "#7201a8"
             ],
             [
              0.3333333333333333,
              "#9c179e"
             ],
             [
              0.4444444444444444,
              "#bd3786"
             ],
             [
              0.5555555555555556,
              "#d8576b"
             ],
             [
              0.6666666666666666,
              "#ed7953"
             ],
             [
              0.7777777777777778,
              "#fb9f3a"
             ],
             [
              0.8888888888888888,
              "#fdca26"
             ],
             [
              1,
              "#f0f921"
             ]
            ],
            "type": "histogram2dcontour"
           }
          ],
          "mesh3d": [
           {
            "colorbar": {
             "outlinewidth": 0,
             "ticks": ""
            },
            "type": "mesh3d"
           }
          ],
          "parcoords": [
           {
            "line": {
             "colorbar": {
              "outlinewidth": 0,
              "ticks": ""
             }
            },
            "type": "parcoords"
           }
          ],
          "pie": [
           {
            "automargin": true,
            "type": "pie"
           }
          ],
          "scatter": [
           {
            "fillpattern": {
             "fillmode": "overlay",
             "size": 10,
             "solidity": 0.2
            },
            "type": "scatter"
           }
          ],
          "scatter3d": [
           {
            "line": {
             "colorbar": {
              "outlinewidth": 0,
              "ticks": ""
             }
            },
            "marker": {
             "colorbar": {
              "outlinewidth": 0,
              "ticks": ""
             }
            },
            "type": "scatter3d"
           }
          ],
          "scattercarpet": [
           {
            "marker": {
             "colorbar": {
              "outlinewidth": 0,
              "ticks": ""
             }
            },
            "type": "scattercarpet"
           }
          ],
          "scattergeo": [
           {
            "marker": {
             "colorbar": {
              "outlinewidth": 0,
              "ticks": ""
             }
            },
            "type": "scattergeo"
           }
          ],
          "scattergl": [
           {
            "marker": {
             "colorbar": {
              "outlinewidth": 0,
              "ticks": ""
             }
            },
            "type": "scattergl"
           }
          ],
          "scattermapbox": [
           {
            "marker": {
             "colorbar": {
              "outlinewidth": 0,
              "ticks": ""
             }
            },
            "type": "scattermapbox"
           }
          ],
          "scatterpolar": [
           {
            "marker": {
             "colorbar": {
              "outlinewidth": 0,
              "ticks": ""
             }
            },
            "type": "scatterpolar"
           }
          ],
          "scatterpolargl": [
           {
            "marker": {
             "colorbar": {
              "outlinewidth": 0,
              "ticks": ""
             }
            },
            "type": "scatterpolargl"
           }
          ],
          "scatterternary": [
           {
            "marker": {
             "colorbar": {
              "outlinewidth": 0,
              "ticks": ""
             }
            },
            "type": "scatterternary"
           }
          ],
          "surface": [
           {
            "colorbar": {
             "outlinewidth": 0,
             "ticks": ""
            },
            "colorscale": [
             [
              0,
              "#0d0887"
             ],
             [
              0.1111111111111111,
              "#46039f"
             ],
             [
              0.2222222222222222,
              "#7201a8"
             ],
             [
              0.3333333333333333,
              "#9c179e"
             ],
             [
              0.4444444444444444,
              "#bd3786"
             ],
             [
              0.5555555555555556,
              "#d8576b"
             ],
             [
              0.6666666666666666,
              "#ed7953"
             ],
             [
              0.7777777777777778,
              "#fb9f3a"
             ],
             [
              0.8888888888888888,
              "#fdca26"
             ],
             [
              1,
              "#f0f921"
             ]
            ],
            "type": "surface"
           }
          ],
          "table": [
           {
            "cells": {
             "fill": {
              "color": "#EBF0F8"
             },
             "line": {
              "color": "white"
             }
            },
            "header": {
             "fill": {
              "color": "#C8D4E3"
             },
             "line": {
              "color": "white"
             }
            },
            "type": "table"
           }
          ]
         },
         "layout": {
          "annotationdefaults": {
           "arrowcolor": "#2a3f5f",
           "arrowhead": 0,
           "arrowwidth": 1
          },
          "autotypenumbers": "strict",
          "coloraxis": {
           "colorbar": {
            "outlinewidth": 0,
            "ticks": ""
           }
          },
          "colorscale": {
           "diverging": [
            [
             0,
             "#8e0152"
            ],
            [
             0.1,
             "#c51b7d"
            ],
            [
             0.2,
             "#de77ae"
            ],
            [
             0.3,
             "#f1b6da"
            ],
            [
             0.4,
             "#fde0ef"
            ],
            [
             0.5,
             "#f7f7f7"
            ],
            [
             0.6,
             "#e6f5d0"
            ],
            [
             0.7,
             "#b8e186"
            ],
            [
             0.8,
             "#7fbc41"
            ],
            [
             0.9,
             "#4d9221"
            ],
            [
             1,
             "#276419"
            ]
           ],
           "sequential": [
            [
             0,
             "#0d0887"
            ],
            [
             0.1111111111111111,
             "#46039f"
            ],
            [
             0.2222222222222222,
             "#7201a8"
            ],
            [
             0.3333333333333333,
             "#9c179e"
            ],
            [
             0.4444444444444444,
             "#bd3786"
            ],
            [
             0.5555555555555556,
             "#d8576b"
            ],
            [
             0.6666666666666666,
             "#ed7953"
            ],
            [
             0.7777777777777778,
             "#fb9f3a"
            ],
            [
             0.8888888888888888,
             "#fdca26"
            ],
            [
             1,
             "#f0f921"
            ]
           ],
           "sequentialminus": [
            [
             0,
             "#0d0887"
            ],
            [
             0.1111111111111111,
             "#46039f"
            ],
            [
             0.2222222222222222,
             "#7201a8"
            ],
            [
             0.3333333333333333,
             "#9c179e"
            ],
            [
             0.4444444444444444,
             "#bd3786"
            ],
            [
             0.5555555555555556,
             "#d8576b"
            ],
            [
             0.6666666666666666,
             "#ed7953"
            ],
            [
             0.7777777777777778,
             "#fb9f3a"
            ],
            [
             0.8888888888888888,
             "#fdca26"
            ],
            [
             1,
             "#f0f921"
            ]
           ]
          },
          "colorway": [
           "#636efa",
           "#EF553B",
           "#00cc96",
           "#ab63fa",
           "#FFA15A",
           "#19d3f3",
           "#FF6692",
           "#B6E880",
           "#FF97FF",
           "#FECB52"
          ],
          "font": {
           "color": "#2a3f5f"
          },
          "geo": {
           "bgcolor": "white",
           "lakecolor": "white",
           "landcolor": "#E5ECF6",
           "showlakes": true,
           "showland": true,
           "subunitcolor": "white"
          },
          "hoverlabel": {
           "align": "left"
          },
          "hovermode": "closest",
          "mapbox": {
           "style": "light"
          },
          "paper_bgcolor": "white",
          "plot_bgcolor": "#E5ECF6",
          "polar": {
           "angularaxis": {
            "gridcolor": "white",
            "linecolor": "white",
            "ticks": ""
           },
           "bgcolor": "#E5ECF6",
           "radialaxis": {
            "gridcolor": "white",
            "linecolor": "white",
            "ticks": ""
           }
          },
          "scene": {
           "xaxis": {
            "backgroundcolor": "#E5ECF6",
            "gridcolor": "white",
            "gridwidth": 2,
            "linecolor": "white",
            "showbackground": true,
            "ticks": "",
            "zerolinecolor": "white"
           },
           "yaxis": {
            "backgroundcolor": "#E5ECF6",
            "gridcolor": "white",
            "gridwidth": 2,
            "linecolor": "white",
            "showbackground": true,
            "ticks": "",
            "zerolinecolor": "white"
           },
           "zaxis": {
            "backgroundcolor": "#E5ECF6",
            "gridcolor": "white",
            "gridwidth": 2,
            "linecolor": "white",
            "showbackground": true,
            "ticks": "",
            "zerolinecolor": "white"
           }
          },
          "shapedefaults": {
           "line": {
            "color": "#2a3f5f"
           }
          },
          "ternary": {
           "aaxis": {
            "gridcolor": "white",
            "linecolor": "white",
            "ticks": ""
           },
           "baxis": {
            "gridcolor": "white",
            "linecolor": "white",
            "ticks": ""
           },
           "bgcolor": "#E5ECF6",
           "caxis": {
            "gridcolor": "white",
            "linecolor": "white",
            "ticks": ""
           }
          },
          "title": {
           "x": 0.05
          },
          "xaxis": {
           "automargin": true,
           "gridcolor": "white",
           "linecolor": "white",
           "ticks": "",
           "title": {
            "standoff": 15
           },
           "zerolinecolor": "white",
           "zerolinewidth": 2
          },
          "yaxis": {
           "automargin": true,
           "gridcolor": "white",
           "linecolor": "white",
           "ticks": "",
           "title": {
            "standoff": 15
           },
           "zerolinecolor": "white",
           "zerolinewidth": 2
          }
         }
        },
        "title": {
         "text": "Average Sector Performance Over Time (1Y)"
        },
        "xaxis": {
         "anchor": "y",
         "domain": [
          0,
          1
         ],
         "tickangle": -45,
         "title": {
          "text": "Sector"
         }
        },
        "yaxis": {
         "anchor": "x",
         "domain": [
          0,
          1
         ],
         "title": {
          "text": "Performance (%)"
         }
        }
       }
      }
     },
     "metadata": {},
     "output_type": "display_data"
    }
   ],
   "source": [
    "import plotly.express as px\n",
    "\n",
    "time_frame = '1Y'\n",
    "\n",
    "sector_performance_subset = sector_performance[['sector', time_frame]]\n",
    "sector_performance_subset = sector_performance_subset.sort_values(by=time_frame, ascending=False)\n",
    "\n",
    "fig = px.bar(sector_performance_subset,\n",
    "             x='sector', \n",
    "             y=time_frame,\n",
    "             title=f\"Average Sector Performance Over Time ({time_frame})\",\n",
    "             labels={\"sector\": \"Sector\", time_frame: \"Performance (%)\"},\n",
    "             barmode='group')\n",
    "\n",
    "fig.update_layout(xaxis_tickangle=-45)\n",
    "fig.show()\n"
   ]
  },
  {
   "cell_type": "markdown",
   "metadata": {},
   "source": [
    "### Preparing data for openAI"
   ]
  },
  {
   "cell_type": "markdown",
   "metadata": {},
   "source": [
    "####  Extracing Top and Bottom Performing Sectors"
   ]
  },
  {
   "cell_type": "code",
   "execution_count": 124,
   "metadata": {},
   "outputs": [
    {
     "name": "stdout",
     "output_type": "stream",
     "text": [
      "Top Performing Sectors:\n",
      "sector: Entertainment, 88.7704\n",
      "sector: Travel and Tourism, 65.81501\n",
      "sector: Energy Services, 46.64194\n",
      "\n",
      "Bottom Performing Sectors:\n",
      "sector: FinTech, -33.07708\n",
      "sector: Cybersecurity, -20.34086\n",
      "sector: Utilities, -19.18465\n"
     ]
    }
   ],
   "source": [
    "# Top and bottom 3 performing sectors based on max\n",
    "top_sectors = sector_performance.nlargest(3, '1Y')[['sector', '1Y']]\n",
    "bottom_sectors = sector_performance.nsmallest(3, '1Y')[['sector', '1Y']]\n",
    "\n",
    "# top and bottom sectors for API input\n",
    "top_sectors_str = \"\\n\".join([f\"sector: {row['sector']}, {row['1Y']}\" for _, row in top_sectors.iterrows()])\n",
    "bottom_sectors_str = \"\\n\".join([f\"sector: {row['sector']}, {row['1Y']}\" for _, row in bottom_sectors.iterrows()])\n",
    "\n",
    "print(\"Top Performing Sectors:\")\n",
    "print(top_sectors_str)\n",
    "print(\"\\nBottom Performing Sectors:\")\n",
    "print(bottom_sectors_str)\n"
   ]
  },
  {
   "cell_type": "markdown",
   "metadata": {},
   "source": [
    "#### Top and Bottom Performing Companies"
   ]
  },
  {
   "cell_type": "code",
   "execution_count": 125,
   "metadata": {},
   "outputs": [
    {
     "name": "stdout",
     "output_type": "stream",
     "text": [
      "\n",
      "Top Performing Companies:\n",
      "Netflix 88.7704\n",
      "Booking Holdings 65.81501\n",
      "Baker Hughes 46.64194\n",
      "\n",
      "Bottom Performing Companies:\n",
      "PayPal -33.07708\n",
      "CrowdStrike -20.34086\n",
      "American Electric Power -19.18465\n"
     ]
    }
   ],
   "source": [
    "top_companies = company_performance_summary.nlargest(3, '1Y')[['name', '1Y']]\n",
    "bottom_companies = company_performance_summary.nsmallest(3, '1Y')[['name', '1Y']]\n",
    "\n",
    "# API input\n",
    "top_companies_str = \"\\n\".join([f\"{row['name']} {row['1Y']}\" for _, row in top_companies.iterrows()])\n",
    "bottom_companies_str = \"\\n\".join([f\"{row['name']} {row['1Y']}\" for _, row in bottom_companies.iterrows()])\n",
    "\n",
    "print(\"\\nTop Performing Companies:\")\n",
    "print(top_companies_str)\n",
    "print(\"\\nBottom Performing Companies:\")\n",
    "print(bottom_companies_str)"
   ]
  },
  {
   "cell_type": "markdown",
   "metadata": {},
   "source": [
    "#### Combine the Data and Prepare for API"
   ]
  },
  {
   "cell_type": "code",
   "execution_count": 126,
   "metadata": {},
   "outputs": [
    {
     "name": "stdout",
     "output_type": "stream",
     "text": [
      "\n",
      "API Input:\n",
      "\n",
      "\n",
      "Top Performing Sectors:\n",
      "sector: Entertainment, 88.7704\n",
      "sector: Travel and Tourism, 65.81501\n",
      "sector: Energy Services, 46.64194\n",
      "\n",
      "Bottom Performing Sectors:\n",
      "sector: FinTech, -33.07708\n",
      "sector: Cybersecurity, -20.34086\n",
      "sector: Utilities, -19.18465\n",
      "\n",
      "Top Performing Companies:\n",
      "Netflix 88.7704\n",
      "Booking Holdings 65.81501\n",
      "Baker Hughes 46.64194\n",
      "\n",
      "Bottom Performing Companies:\n",
      "PayPal -33.07708\n",
      "CrowdStrike -20.34086\n",
      "American Electric Power -19.18465\n",
      "\n"
     ]
    }
   ],
   "source": [
    "# Combine all the data for API input\n",
    "api_input = f\"\"\"\n",
    "Top Performing Sectors:\n",
    "{top_sectors_str}\n",
    "\n",
    "Bottom Performing Sectors:\n",
    "{bottom_sectors_str}\n",
    "\n",
    "Top Performing Companies:\n",
    "{top_companies_str}\n",
    "\n",
    "Bottom Performing Companies:\n",
    "{bottom_companies_str}\n",
    "\"\"\"\n",
    "print(\"\\nAPI Input:\\n\")\n",
    "print(api_input)\n"
   ]
  },
  {
   "cell_type": "markdown",
   "metadata": {},
   "source": [
    "### Generating Insights with OpenAI"
   ]
  },
  {
   "cell_type": "code",
   "execution_count": 127,
   "metadata": {},
   "outputs": [
    {
     "name": "stdout",
     "output_type": "stream",
     "text": [
      "\n",
      "🔍 **Insights from OpenAI:**\n",
      "\n",
      "**Key trends driving the top-performing sectors and companies for the year:**\n",
      "\n",
      "1. **Entertainment Sector:** The entertainment sector, led by companies like Netflix, has seen a surge in demand due to the shift towards digital streaming services during the pandemic. With people spending more time at home, the demand for entertainment content has increased, driving the performance of companies in this sector.\n",
      "\n",
      "2. **Travel and Tourism Sector:** As travel restrictions ease and vaccination rates increase, the travel and tourism sector has started to rebound. Companies like Booking Holdings, which operate online travel platforms, have benefited from the pent-up demand for travel and vacations.\n",
      "\n",
      "3. **Energy Services Sector:** The energy services sector, represented by companies like Baker Hughes, has seen a boost in performance as oil prices have recovered from the lows seen during the height of the pandemic. Increased demand for energy services and products as economies reopen has contributed to the sector's strong performance.\n",
      "\n",
      "**Potential reasons behind the worst-performing sectors and companies for the year:**\n",
      "\n",
      "1. **FinTech Sector:** The FinTech sector, represented by companies like PayPal, may have faced challenges due to increased competition, regulatory concerns, and a shift in consumer behavior towards digital payments. Additionally, the sector may have been impacted by market volatility and changing investor sentiment.\n",
      "\n",
      "2. **Cybersecurity Sector:** The cybersecurity sector, represented by companies like CrowdStrike, may have faced headwinds due to increased cyber threats and data breaches, as well as concerns about the sustainability of high valuation levels. The sector's performance may also have been affected by changing cybersecurity needs and priorities in a post-pandemic world.\n",
      "\n",
      "3. **Utilities Sector:** The utilities sector, represented by companies like American Electric Power, may have underperformed due to factors such as regulatory challenges, rising interest rates impacting dividend-paying stocks, and potential concerns about the sector's ability to transition to renewable energy sources.\n",
      "\n",
      "**Investment opportunities or risks based on these trends:**\n",
      "\n",
      "Investors looking for opportunities may consider investing in sectors like entertainment, travel and tourism, and energy services that have shown strong performance. Companies within these sectors that have demonstrated resilience and adaptability to changing market conditions may present attractive investment opportunities.\n",
      "\n",
      "On the other hand, investors should exercise caution when considering investments in sectors like FinTech, cybersecurity, and utilities that have underperformed. Conducting thorough research on individual companies, assessing their competitive positioning, growth prospects, and ability to navigate challenges in their respective sectors is crucial to making informed investment decisions\n",
      "\n",
      "Insights saved to 'openai_insights.txt'\n"
     ]
    }
   ],
   "source": [
    "def prepare_insights_for_openai():\n",
    "    # Preparing the string input for top and bottom sectors\n",
    "    top_sectors_str = \"\\n\".join([f\"Sector: {row['sector']}, Performance: {row['1Y']:.2f}\" for _, row in top_sectors.iterrows()])\n",
    "    bottom_sectors_str = \"\\n\".join([f\"Sector: {row['sector']}, Performance: {row['1Y']:.2f}\" for _, row in bottom_sectors.iterrows()])\n",
    "\n",
    "    # Preparing the string input for top and bottom companies\n",
    "    top_companies_str = \"\\n\".join([f\"{row['name']} - Performance: {row['1Y']:.2f}\" for _, row in top_companies.iterrows()])\n",
    "    bottom_companies_str = \"\\n\".join([f\"{row['name']} - Performance: {row['1Y']:.2f}\" for _, row in bottom_companies.iterrows()])\n",
    "\n",
    "    # Combining all the data into a single string\n",
    "    insights_text = (\n",
    "        \"Here is an overview of the top and bottom performing sectors and companies based on stock performance:\\n\\n\"\n",
    "        \"📈 **Top Performing Sectors:**\\n\"\n",
    "        + top_sectors_str +\n",
    "        \"\\n\\n📉 **Bottom Performing Sectors:**\\n\"\n",
    "        + bottom_sectors_str +\n",
    "        \"\\n\\n🏆 **Top Performing Companies:**\\n\"\n",
    "        + top_companies_str +\n",
    "        \"\\n\\n📉 **Bottom Performing Companies:**\\n\"\n",
    "        + bottom_companies_str +\n",
    "        \"\\n\\nPlease analyze these results and provide insights on:\\n\"\n",
    "        \"- Key trends driving the top-performing sectors and companies for the year\\n\"\n",
    "        \"- Potential reasons behind the worst-performing sectors and companies for the year\\n\"\n",
    "        \"- Investment opportunities or risks based on these trends\"\n",
    "    )\n",
    "    \n",
    "    return insights_text\n",
    "\n",
    "def send_insights_to_openai():\n",
    "    insights_text = prepare_insights_for_openai()\n",
    "    \n",
    "    try:\n",
    "        response = client.chat.completions.create(\n",
    "            model=\"gpt-3.5-turbo\",\n",
    "            messages=[\n",
    "                {\"role\": \"user\", \"content\": insights_text}\n",
    "            ],\n",
    "            max_tokens=500,  # token limit\n",
    "            temperature=0.5  # temperature to control creativity of the response\n",
    "        )\n",
    "        \n",
    "        # Store the OpenAI response\n",
    "        insights = response.choices[0].message.content\n",
    "        \n",
    "        # Save insights to a file\n",
    "        with open(\"openai_insights.txt\", \"w\", encoding=\"utf-8\") as file:\n",
    "            file.write(insights)\n",
    "        \n",
    "        print(\"\\n🔍 **Insights from OpenAI:**\\n\")\n",
    "        print(insights)\n",
    "        print(\"\\nInsights saved to 'openai_insights.txt'\")\n",
    "    \n",
    "    except Exception as e:\n",
    "        print(f\"Error in sending data to OpenAI: {e}\")\n",
    "\n",
    "# function to send insights and save\n",
    "send_insights_to_openai()\n"
   ]
  }
 ],
 "metadata": {
  "kernelspec": {
   "display_name": "base",
   "language": "python",
   "name": "python3"
  },
  "language_info": {
   "codemirror_mode": {
    "name": "ipython",
    "version": 3
   },
   "file_extension": ".py",
   "mimetype": "text/x-python",
   "name": "python",
   "nbconvert_exporter": "python",
   "pygments_lexer": "ipython3",
   "version": "3.11.8"
  }
 },
 "nbformat": 4,
 "nbformat_minor": 2
}
